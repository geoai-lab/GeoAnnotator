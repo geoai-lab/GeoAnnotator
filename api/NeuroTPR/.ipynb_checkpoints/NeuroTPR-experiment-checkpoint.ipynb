{
 "cells": [
  {
   "cell_type": "code",
   "execution_count": 1,
   "id": "bafd8a53",
   "metadata": {},
   "outputs": [
    {
     "data": {
      "text/plain": [
       "'C:\\\\Users\\\\User\\\\VS_Code_projects\\\\geo-app\\\\api\\\\NeuroTPR'"
      ]
     },
     "execution_count": 1,
     "metadata": {},
     "output_type": "execute_result"
    }
   ],
   "source": [
    "import os \n",
    "os.getcwd()"
   ]
  },
  {
   "cell_type": "code",
   "execution_count": 2,
   "id": "dcc06778",
   "metadata": {
    "scrolled": false
   },
   "outputs": [
    {
     "name": "stderr",
     "output_type": "stream",
     "text": [
      "Using TensorFlow backend.\n"
     ]
    },
    {
     "name": "stdout",
     "output_type": "stream",
     "text": [
      "WARNING:tensorflow:From C:\\Users\\User\\AppData\\Roaming\\Python\\Python36\\site-packages\\tensorflow_core\\python\\ops\\resource_variable_ops.py:1630: calling BaseResourceVariable.__init__ (from tensorflow.python.ops.resource_variable_ops) with constraint is deprecated and will be removed in a future version.\n",
      "Instructions for updating:\n",
      "If using Keras pass *_constraint arguments to layers.\n"
     ]
    },
    {
     "name": "stderr",
     "output_type": "stream",
     "text": [
      "[nltk_data] Downloading package averaged_perceptron_tagger to\n",
      "[nltk_data]     C:\\Users\\User\\AppData\\Roaming\\nltk_data...\n",
      "[nltk_data]   Package averaged_perceptron_tagger is already up-to-\n",
      "[nltk_data]       date!\n"
     ]
    },
    {
     "name": "stdout",
     "output_type": "stream",
     "text": [
      "INFO:tensorflow:Saver not created because there are no variables in the graph to restore\n"
     ]
    },
    {
     "name": "stderr",
     "output_type": "stream",
     "text": [
      "INFO:tensorflow:Saver not created because there are no variables in the graph to restore\n"
     ]
    },
    {
     "name": "stdout",
     "output_type": "stream",
     "text": [
      "Loaded pretrained NeuroTPR model\n",
      "WARNING:tensorflow:From C:\\Users\\User\\AppData\\Roaming\\Python\\Python36\\site-packages\\keras\\backend\\tensorflow_backend.py:422: The name tf.global_variables is deprecated. Please use tf.compat.v1.global_variables instead.\n",
      "\n"
     ]
    },
    {
     "name": "stderr",
     "output_type": "stream",
     "text": [
      "WARNING:tensorflow:From C:\\Users\\User\\AppData\\Roaming\\Python\\Python36\\site-packages\\keras\\backend\\tensorflow_backend.py:422: The name tf.global_variables is deprecated. Please use tf.compat.v1.global_variables instead.\n",
      "\n"
     ]
    },
    {
     "name": "stdout",
     "output_type": "stream",
     "text": [
      "WARNING:tensorflow:From C:\\Users\\User\\AppData\\Roaming\\Python\\Python36\\site-packages\\keras\\backend\\tensorflow_backend.py:431: The name tf.is_variable_initialized is deprecated. Please use tf.compat.v1.is_variable_initialized instead.\n",
      "\n"
     ]
    },
    {
     "name": "stderr",
     "output_type": "stream",
     "text": [
      "WARNING:tensorflow:From C:\\Users\\User\\AppData\\Roaming\\Python\\Python36\\site-packages\\keras\\backend\\tensorflow_backend.py:431: The name tf.is_variable_initialized is deprecated. Please use tf.compat.v1.is_variable_initialized instead.\n",
      "\n"
     ]
    },
    {
     "name": "stdout",
     "output_type": "stream",
     "text": [
      "WARNING:tensorflow:From C:\\Users\\User\\AppData\\Roaming\\Python\\Python36\\site-packages\\keras\\backend\\tensorflow_backend.py:438: The name tf.variables_initializer is deprecated. Please use tf.compat.v1.variables_initializer instead.\n",
      "\n"
     ]
    },
    {
     "name": "stderr",
     "output_type": "stream",
     "text": [
      "WARNING:tensorflow:From C:\\Users\\User\\AppData\\Roaming\\Python\\Python36\\site-packages\\keras\\backend\\tensorflow_backend.py:438: The name tf.variables_initializer is deprecated. Please use tf.compat.v1.variables_initializer instead.\n",
      "\n"
     ]
    },
    {
     "name": "stdout",
     "output_type": "stream",
     "text": [
      "[{\"location_name\": \"Buffalo\", \"start_idx\": 1, \"end_idx\": 7}, {\"location_name\": \"New York State\", \"start_idx\": 22, \"end_idx\": 35}] ==> example of the result\n"
     ]
    }
   ],
   "source": [
    "from neurotpr import geoparse\n",
    "import pandas as pd \n",
    " # \"sqlite:///HarveyTwitter.db\"\n",
    "os.chdir('../')\n",
    "geoparse.load_model(\"NeuroTPR/\")\n",
    "result = geoparse.topo_recog(\"Buffalo is a city in New York State.\")\n",
    "print(\"{} ==> example of the result\".format(result))"
   ]
  },
  {
   "cell_type": "markdown",
   "id": "a4cf17c0",
   "metadata": {},
   "source": [
    "# We now connect to the server"
   ]
  },
  {
   "cell_type": "code",
   "execution_count": 50,
   "id": "c2eb6c9f",
   "metadata": {},
   "outputs": [],
   "source": [
    "# we need to access the database \n",
    "from sqlite3 import connect\n",
    "conn = connect(\"postgres://../HarveyTwitter.db\")"
   ]
  },
  {
   "cell_type": "code",
   "execution_count": 51,
   "id": "b7fcafc6",
   "metadata": {},
   "outputs": [],
   "source": [
    "df = pd.read_sql('SELECT `index`, text, id, created_at FROM HarveyTwitterDataSet', conn) "
   ]
  },
  {
   "cell_type": "code",
   "execution_count": 10,
   "id": "007b1e2d",
   "metadata": {},
   "outputs": [
    {
     "name": "stdout",
     "output_type": "stream",
     "text": [
      "100.0% until completion\n"
     ]
    }
   ],
   "source": [
    "from IPython.display import clear_output\n",
    "following_topo_recogs = []\n",
    "wait_counter= 0\n",
    "total_length = len(df['text'])\n",
    "for content in df['text']:\n",
    "    following_topo_recogs.append(geoparse.topo_recog(content))\n",
    "    clear_output(wait = True)\n",
    "    wait_counter += 1 \n",
    "    print(\"{}% until completion\".format((wait_counter / total_length) * 100))"
   ]
  },
  {
   "cell_type": "code",
   "execution_count": 38,
   "id": "04ef1676",
   "metadata": {},
   "outputs": [
    {
     "ename": "TypeError",
     "evalue": "string indices must be integers",
     "output_type": "error",
     "traceback": [
      "\u001b[1;31m---------------------------------------------------------------------------\u001b[0m",
      "\u001b[1;31mTypeError\u001b[0m                                 Traceback (most recent call last)",
      "\u001b[1;32m<ipython-input-38-f37c185966a6>\u001b[0m in \u001b[0;36m<module>\u001b[1;34m\u001b[0m\n\u001b[0;32m      2\u001b[0m \u001b[1;32mfor\u001b[0m \u001b[0midn\u001b[0m \u001b[1;32min\u001b[0m \u001b[0mdf\u001b[0m\u001b[1;33m[\u001b[0m\u001b[1;34m'id'\u001b[0m\u001b[1;33m]\u001b[0m\u001b[1;33m:\u001b[0m\u001b[1;33m\u001b[0m\u001b[1;33m\u001b[0m\u001b[0m\n\u001b[0;32m      3\u001b[0m     \u001b[1;32mfor\u001b[0m \u001b[0mresults_tpr\u001b[0m \u001b[1;32min\u001b[0m \u001b[0mfollowing_topo_recogs\u001b[0m\u001b[1;33m:\u001b[0m\u001b[1;33m\u001b[0m\u001b[1;33m\u001b[0m\u001b[0m\n\u001b[1;32m----> 4\u001b[1;33m         \u001b[0mnew_dict_to_save\u001b[0m\u001b[1;33m[\u001b[0m\u001b[0midn\u001b[0m\u001b[1;33m]\u001b[0m \u001b[1;33m=\u001b[0m \u001b[0mresults_tpr\u001b[0m\u001b[1;33m[\u001b[0m\u001b[1;34m'location_name'\u001b[0m\u001b[1;33m]\u001b[0m\u001b[1;33m\u001b[0m\u001b[1;33m\u001b[0m\u001b[0m\n\u001b[0m",
      "\u001b[1;31mTypeError\u001b[0m: string indices must be integers"
     ]
    }
   ],
   "source": [
    "new_dict_to_save = {}\n",
    "for idn in df['id']:\n",
    "    for results_tpr in following_topo_recogs:\n",
    "        new_dict_to_save[idn] = results_tpr['location_name']"
   ]
  },
  {
   "cell_type": "code",
   "execution_count": 17,
   "id": "18f3a3e2",
   "metadata": {},
   "outputs": [],
   "source": [
    "df['Neuro TPR-res'] = following_topo_recogs"
   ]
  },
  {
   "cell_type": "code",
   "execution_count": 24,
   "id": "e2c37195",
   "metadata": {},
   "outputs": [],
   "source": [
    "new_df_tosql = df.drop(columns = ['index'])#.to_sql('NueroTPR-dataset', con=conn)"
   ]
  },
  {
   "cell_type": "code",
   "execution_count": 46,
   "id": "c7717ad5",
   "metadata": {},
   "outputs": [],
   "source": [
    "new_df_tosql['created_at'] = pd.to_datetime(new_df_tosql['created_at'])"
   ]
  },
  {
   "cell_type": "code",
   "execution_count": 65,
   "id": "4d1327f0",
   "metadata": {},
   "outputs": [],
   "source": [
    "new_df_tosql.rename(columns = {'Neuro TPR-res':'neuro_data'},inplace =True)"
   ]
  },
  {
   "cell_type": "code",
   "execution_count": 66,
   "id": "e2d34721",
   "metadata": {},
   "outputs": [],
   "source": [
    "new_df_tosql['neuro_data'] = new_df_tosql['neuro_data'].astype(str)"
   ]
  },
  {
   "cell_type": "code",
   "execution_count": 68,
   "id": "7cfa3b42",
   "metadata": {},
   "outputs": [],
   "source": [
    "new_df_tosql.to_sql('NeuroTPR-dataset',conn, \n",
    "                      if_exists = 'replace', \n",
    "                      index = False)"
   ]
  },
  {
   "cell_type": "code",
   "execution_count": null,
   "id": "c90ea082",
   "metadata": {},
   "outputs": [],
   "source": [
    "#integer IDS round up... I need to fix that "
   ]
  },
  {
   "cell_type": "code",
   "execution_count": null,
   "id": "cdf05197",
   "metadata": {},
   "outputs": [],
   "source": [
    "# dependency issues\n",
    "'''\n",
    "h5py package (in my case to 2.10.0) <= needs to be done'''"
   ]
  },
  {
   "cell_type": "code",
   "execution_count": 53,
   "id": "b7871e88",
   "metadata": {},
   "outputs": [
    {
     "data": {
      "text/html": [
       "<div>\n",
       "<style scoped>\n",
       "    .dataframe tbody tr th:only-of-type {\n",
       "        vertical-align: middle;\n",
       "    }\n",
       "\n",
       "    .dataframe tbody tr th {\n",
       "        vertical-align: top;\n",
       "    }\n",
       "\n",
       "    .dataframe thead th {\n",
       "        text-align: right;\n",
       "    }\n",
       "</style>\n",
       "<table border=\"1\" class=\"dataframe\">\n",
       "  <thead>\n",
       "    <tr style=\"text-align: right;\">\n",
       "      <th></th>\n",
       "      <th>text</th>\n",
       "      <th>id</th>\n",
       "      <th>created_at</th>\n",
       "      <th>Neuro TPR-res</th>\n",
       "    </tr>\n",
       "  </thead>\n",
       "  <tbody>\n",
       "    <tr>\n",
       "      <th>0</th>\n",
       "      <td>RT @aaronjayjack: Displaced dog jumped into my...</td>\n",
       "      <td>901774900481970176</td>\n",
       "      <td>2017-08-27 11:54:25</td>\n",
       "      <td>[]</td>\n",
       "    </tr>\n",
       "    <tr>\n",
       "      <th>1</th>\n",
       "      <td>RT @JanelleKHOU: Water is seeping into the stu...</td>\n",
       "      <td>901774898623692800</td>\n",
       "      <td>2017-08-27 11:54:24</td>\n",
       "      <td>[{\"location_name\": \"Buffalo Bayou\", \"start_idx...</td>\n",
       "    </tr>\n",
       "    <tr>\n",
       "      <th>2</th>\n",
       "      <td>RT @ReadyHarris: OPEN SHELTER: North Shore 9th...</td>\n",
       "      <td>901774891971624961</td>\n",
       "      <td>2017-08-27 11:54:23</td>\n",
       "      <td>[{\"location_name\": \"North Shore\", \"start_idx\":...</td>\n",
       "    </tr>\n",
       "    <tr>\n",
       "      <th>3</th>\n",
       "      <td>RT @LHuffmanPowell: This dog is walking around...</td>\n",
       "      <td>901774890390474752</td>\n",
       "      <td>2017-08-27 11:54:22</td>\n",
       "      <td>[{\"location_name\": \"Sinton TX\", \"start_idx\": 3...</td>\n",
       "    </tr>\n",
       "    <tr>\n",
       "      <th>4</th>\n",
       "      <td>RT @fema: Please remember: #Harvey is still an...</td>\n",
       "      <td>901774889937494017</td>\n",
       "      <td>2017-08-27 11:54:22</td>\n",
       "      <td>[]</td>\n",
       "    </tr>\n",
       "    <tr>\n",
       "      <th>...</th>\n",
       "      <td>...</td>\n",
       "      <td>...</td>\n",
       "      <td>...</td>\n",
       "      <td>...</td>\n",
       "    </tr>\n",
       "    <tr>\n",
       "      <th>995</th>\n",
       "      <td>RT @weatherchannel: .@JimCantore shows some of...</td>\n",
       "      <td>901772302886596608</td>\n",
       "      <td>2017-08-27 11:44:05</td>\n",
       "      <td>[{\"location_name\": \"Rockport\", \"start_idx\": 58...</td>\n",
       "    </tr>\n",
       "    <tr>\n",
       "      <th>996</th>\n",
       "      <td>RT @RedTRaccoon: Please RETWEET\\n\\nhttps://t.c...</td>\n",
       "      <td>901772300944633856</td>\n",
       "      <td>2017-08-27 11:44:05</td>\n",
       "      <td>[{\"location_name\": \"Houston\", \"start_idx\": 93,...</td>\n",
       "    </tr>\n",
       "    <tr>\n",
       "      <th>997</th>\n",
       "      <td>RT @leahmcelrath: GET ON YOUR ROOF IF NECESSAR...</td>\n",
       "      <td>901772299304665088</td>\n",
       "      <td>2017-08-27 11:44:04</td>\n",
       "      <td>[{\"location_name\": \"ATTIC\", \"start_idx\": 51, \"...</td>\n",
       "    </tr>\n",
       "    <tr>\n",
       "      <th>998</th>\n",
       "      <td>RT @WeatherNation: CIVIL EMERGENCY MESSAGE for...</td>\n",
       "      <td>901772298201550848</td>\n",
       "      <td>2017-08-27 11:44:04</td>\n",
       "      <td>[{\"location_name\": \"Houston Metro\", \"start_idx...</td>\n",
       "    </tr>\n",
       "    <tr>\n",
       "      <th>999</th>\n",
       "      <td>RT @ThisWeekABC: The @ABC News team provides l...</td>\n",
       "      <td>901772295429087233</td>\n",
       "      <td>2017-08-27 11:44:04</td>\n",
       "      <td>[]</td>\n",
       "    </tr>\n",
       "  </tbody>\n",
       "</table>\n",
       "<p>1000 rows × 4 columns</p>\n",
       "</div>"
      ],
      "text/plain": [
       "                                                  text                  id  \\\n",
       "0    RT @aaronjayjack: Displaced dog jumped into my...  901774900481970176   \n",
       "1    RT @JanelleKHOU: Water is seeping into the stu...  901774898623692800   \n",
       "2    RT @ReadyHarris: OPEN SHELTER: North Shore 9th...  901774891971624961   \n",
       "3    RT @LHuffmanPowell: This dog is walking around...  901774890390474752   \n",
       "4    RT @fema: Please remember: #Harvey is still an...  901774889937494017   \n",
       "..                                                 ...                 ...   \n",
       "995  RT @weatherchannel: .@JimCantore shows some of...  901772302886596608   \n",
       "996  RT @RedTRaccoon: Please RETWEET\\n\\nhttps://t.c...  901772300944633856   \n",
       "997  RT @leahmcelrath: GET ON YOUR ROOF IF NECESSAR...  901772299304665088   \n",
       "998  RT @WeatherNation: CIVIL EMERGENCY MESSAGE for...  901772298201550848   \n",
       "999  RT @ThisWeekABC: The @ABC News team provides l...  901772295429087233   \n",
       "\n",
       "             created_at                                      Neuro TPR-res  \n",
       "0   2017-08-27 11:54:25                                                 []  \n",
       "1   2017-08-27 11:54:24  [{\"location_name\": \"Buffalo Bayou\", \"start_idx...  \n",
       "2   2017-08-27 11:54:23  [{\"location_name\": \"North Shore\", \"start_idx\":...  \n",
       "3   2017-08-27 11:54:22  [{\"location_name\": \"Sinton TX\", \"start_idx\": 3...  \n",
       "4   2017-08-27 11:54:22                                                 []  \n",
       "..                  ...                                                ...  \n",
       "995 2017-08-27 11:44:05  [{\"location_name\": \"Rockport\", \"start_idx\": 58...  \n",
       "996 2017-08-27 11:44:05  [{\"location_name\": \"Houston\", \"start_idx\": 93,...  \n",
       "997 2017-08-27 11:44:04  [{\"location_name\": \"ATTIC\", \"start_idx\": 51, \"...  \n",
       "998 2017-08-27 11:44:04  [{\"location_name\": \"Houston Metro\", \"start_idx...  \n",
       "999 2017-08-27 11:44:04                                                 []  \n",
       "\n",
       "[1000 rows x 4 columns]"
      ]
     },
     "execution_count": 53,
     "metadata": {},
     "output_type": "execute_result"
    }
   ],
   "source": [
    "new_df_tosql"
   ]
  },
  {
   "cell_type": "code",
   "execution_count": null,
   "id": "8c2954ce",
   "metadata": {},
   "outputs": [],
   "source": []
  }
 ],
 "metadata": {
  "kernelspec": {
   "display_name": "NeuroTPR-env",
   "language": "python",
   "name": "neurotpr-env"
  },
  "language_info": {
   "codemirror_mode": {
    "name": "ipython",
    "version": 3
   },
   "file_extension": ".py",
   "mimetype": "text/x-python",
   "name": "python",
   "nbconvert_exporter": "python",
   "pygments_lexer": "ipython3",
   "version": "3.6.13"
  }
 },
 "nbformat": 4,
 "nbformat_minor": 5
}
